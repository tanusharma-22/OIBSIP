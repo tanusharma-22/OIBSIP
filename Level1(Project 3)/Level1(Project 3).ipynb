{
 "cells": [
  {
   "cell_type": "code",
   "execution_count": 1,
   "id": "4cf40020-4d01-4595-8de7-6a2d114aa033",
   "metadata": {},
   "outputs": [],
   "source": [
    "import pandas as pd\n",
    "import numpy as np\n",
    "import matplotlib.pyplot as plt\n",
    "import seaborn as sns\n"
   ]
  },
  {
   "cell_type": "code",
   "execution_count": 2,
   "id": "9e6e8032-4efa-4c29-aec5-eab890ed91af",
   "metadata": {},
   "outputs": [],
   "source": [
    "df = pd.read_csv(\"CAvideos.csv\") "
   ]
  },
  {
   "cell_type": "code",
   "execution_count": 3,
   "id": "31562b7d-e918-4ee5-857b-e9d8d65729a9",
   "metadata": {},
   "outputs": [
    {
     "name": "stdout",
     "output_type": "stream",
     "text": [
      "Shape of dataset: (40881, 16)\n",
      "\n",
      "Info:\n",
      "<class 'pandas.core.frame.DataFrame'>\n",
      "RangeIndex: 40881 entries, 0 to 40880\n",
      "Data columns (total 16 columns):\n",
      " #   Column                  Non-Null Count  Dtype \n",
      "---  ------                  --------------  ----- \n",
      " 0   video_id                40881 non-null  object\n",
      " 1   trending_date           40881 non-null  object\n",
      " 2   title                   40881 non-null  object\n",
      " 3   channel_title           40881 non-null  object\n",
      " 4   category_id             40881 non-null  int64 \n",
      " 5   publish_time            40881 non-null  object\n",
      " 6   tags                    40881 non-null  object\n",
      " 7   views                   40881 non-null  int64 \n",
      " 8   likes                   40881 non-null  int64 \n",
      " 9   dislikes                40881 non-null  int64 \n",
      " 10  comment_count           40881 non-null  int64 \n",
      " 11  thumbnail_link          40881 non-null  object\n",
      " 12  comments_disabled       40881 non-null  bool  \n",
      " 13  ratings_disabled        40881 non-null  bool  \n",
      " 14  video_error_or_removed  40881 non-null  bool  \n",
      " 15  description             39585 non-null  object\n",
      "dtypes: bool(3), int64(5), object(8)\n",
      "memory usage: 4.2+ MB\n",
      "None\n",
      "\n",
      "Preview:\n",
      "      video_id trending_date  \\\n",
      "0  n1WpP7iowLc      17.14.11   \n",
      "1  0dBIkQ4Mz1M      17.14.11   \n",
      "2  5qpjK5DgCt4      17.14.11   \n",
      "3  d380meD0W0M      17.14.11   \n",
      "4  2Vv-BfVoq4g      17.14.11   \n",
      "\n",
      "                                               title channel_title  \\\n",
      "0         Eminem - Walk On Water (Audio) ft. Beyoncé    EminemVEVO   \n",
      "1                      PLUSH - Bad Unboxing Fan Mail     iDubbbzTV   \n",
      "2  Racist Superman | Rudy Mancuso, King Bach & Le...  Rudy Mancuso   \n",
      "3                           I Dare You: GOING BALD!?      nigahiga   \n",
      "4        Ed Sheeran - Perfect (Official Music Video)    Ed Sheeran   \n",
      "\n",
      "   category_id              publish_time  \\\n",
      "0           10  2017-11-10T17:00:03.000Z   \n",
      "1           23  2017-11-13T17:00:00.000Z   \n",
      "2           23  2017-11-12T19:05:24.000Z   \n",
      "3           24  2017-11-12T18:01:41.000Z   \n",
      "4           10  2017-11-09T11:04:14.000Z   \n",
      "\n",
      "                                                tags     views    likes  \\\n",
      "0  Eminem|\"Walk\"|\"On\"|\"Water\"|\"Aftermath/Shady/In...  17158579   787425   \n",
      "1  plush|\"bad unboxing\"|\"unboxing\"|\"fan mail\"|\"id...   1014651   127794   \n",
      "2  racist superman|\"rudy\"|\"mancuso\"|\"king\"|\"bach\"...   3191434   146035   \n",
      "3  ryan|\"higa\"|\"higatv\"|\"nigahiga\"|\"i dare you\"|\"...   2095828   132239   \n",
      "4  edsheeran|\"ed sheeran\"|\"acoustic\"|\"live\"|\"cove...  33523622  1634130   \n",
      "\n",
      "   dislikes  comment_count                                  thumbnail_link  \\\n",
      "0     43420         125882  https://i.ytimg.com/vi/n1WpP7iowLc/default.jpg   \n",
      "1      1688          13030  https://i.ytimg.com/vi/0dBIkQ4Mz1M/default.jpg   \n",
      "2      5339           8181  https://i.ytimg.com/vi/5qpjK5DgCt4/default.jpg   \n",
      "3      1989          17518  https://i.ytimg.com/vi/d380meD0W0M/default.jpg   \n",
      "4     21082          85067  https://i.ytimg.com/vi/2Vv-BfVoq4g/default.jpg   \n",
      "\n",
      "   comments_disabled  ratings_disabled  video_error_or_removed  \\\n",
      "0              False             False                   False   \n",
      "1              False             False                   False   \n",
      "2              False             False                   False   \n",
      "3              False             False                   False   \n",
      "4              False             False                   False   \n",
      "\n",
      "                                         description  \n",
      "0  Eminem's new track Walk on Water ft. Beyoncé i...  \n",
      "1  STill got a lot of packages. Probably will las...  \n",
      "2  WATCH MY PREVIOUS VIDEO ▶ \\n\\nSUBSCRIBE ► http...  \n",
      "3  I know it's been a while since we did this sho...  \n",
      "4  🎧: https://ad.gt/yt-perfect\\n💰: https://atlant...  \n"
     ]
    }
   ],
   "source": [
    "print(\"Shape of dataset:\", df.shape)\n",
    "print(\"\\nInfo:\")\n",
    "print(df.info())\n",
    "print(\"\\nPreview:\")\n",
    "print(df.head())"
   ]
  },
  {
   "cell_type": "code",
   "execution_count": 4,
   "id": "2401b583-a8e7-4edd-8a92-fcf524f48ad7",
   "metadata": {},
   "outputs": [
    {
     "name": "stdout",
     "output_type": "stream",
     "text": [
      "\n",
      "Missing Values:\n",
      "video_id                     0\n",
      "trending_date                0\n",
      "title                        0\n",
      "channel_title                0\n",
      "category_id                  0\n",
      "publish_time                 0\n",
      "tags                         0\n",
      "views                        0\n",
      "likes                        0\n",
      "dislikes                     0\n",
      "comment_count                0\n",
      "thumbnail_link               0\n",
      "comments_disabled            0\n",
      "ratings_disabled             0\n",
      "video_error_or_removed       0\n",
      "description               1296\n",
      "dtype: int64\n"
     ]
    }
   ],
   "source": [
    "print(\"\\nMissing Values:\")\n",
    "print(df.isnull().sum())"
   ]
  },
  {
   "cell_type": "code",
   "execution_count": 5,
   "id": "1e4f0528-6c34-4177-bcec-a80936a343f7",
   "metadata": {},
   "outputs": [],
   "source": [
    "df['description'] = df['description'].fillna(\"No Description\")"
   ]
  },
  {
   "cell_type": "code",
   "execution_count": 6,
   "id": "2f82a72b-c77f-469f-add2-d49d0b8842cd",
   "metadata": {},
   "outputs": [
    {
     "name": "stdout",
     "output_type": "stream",
     "text": [
      "\n",
      "Duplicate rows: 0\n"
     ]
    }
   ],
   "source": [
    "duplicates = df.duplicated().sum()\n",
    "print(f\"\\nDuplicate rows: {duplicates}\")\n",
    "df = df.drop_duplicates()"
   ]
  },
  {
   "cell_type": "code",
   "execution_count": 7,
   "id": "7723f3ce-84f9-4432-bdd4-43c23bf703d7",
   "metadata": {},
   "outputs": [
    {
     "name": "stdout",
     "output_type": "stream",
     "text": [
      "\n",
      "Descriptive Statistics:\n",
      "           video_id trending_date                                title  \\\n",
      "count         40881         40881                                40881   \n",
      "unique        24427           205                                24573   \n",
      "top     l_lblj8Cq0o      17.14.11  Drake - God's Plan (Official Audio)   \n",
      "freq              8           200                                   15   \n",
      "mean            NaN           NaN                                  NaN   \n",
      "std             NaN           NaN                                  NaN   \n",
      "min             NaN           NaN                                  NaN   \n",
      "25%             NaN           NaN                                  NaN   \n",
      "50%             NaN           NaN                                  NaN   \n",
      "75%             NaN           NaN                                  NaN   \n",
      "max             NaN           NaN                                  NaN   \n",
      "\n",
      "       channel_title   category_id              publish_time    tags  \\\n",
      "count          40881  40881.000000                     40881   40881   \n",
      "unique          5076           NaN                     23613   20157   \n",
      "top        SET India           NaN  2017-12-20T23:00:00.000Z  [none]   \n",
      "freq             192           NaN                        11    2385   \n",
      "mean             NaN     20.795553                       NaN     NaN   \n",
      "std              NaN      6.775054                       NaN     NaN   \n",
      "min              NaN      1.000000                       NaN     NaN   \n",
      "25%              NaN     20.000000                       NaN     NaN   \n",
      "50%              NaN     24.000000                       NaN     NaN   \n",
      "75%              NaN     24.000000                       NaN     NaN   \n",
      "max              NaN     43.000000                       NaN     NaN   \n",
      "\n",
      "               views         likes      dislikes  comment_count  \\\n",
      "count   4.088100e+04  4.088100e+04  4.088100e+04   4.088100e+04   \n",
      "unique           NaN           NaN           NaN            NaN   \n",
      "top              NaN           NaN           NaN            NaN   \n",
      "freq             NaN           NaN           NaN            NaN   \n",
      "mean    1.147036e+06  3.958269e+04  2.009195e+03   5.042975e+03   \n",
      "std     3.390913e+06  1.326895e+05  1.900837e+04   2.157902e+04   \n",
      "min     7.330000e+02  0.000000e+00  0.000000e+00   0.000000e+00   \n",
      "25%     1.439020e+05  2.191000e+03  9.900000e+01   4.170000e+02   \n",
      "50%     3.712040e+05  8.780000e+03  3.030000e+02   1.301000e+03   \n",
      "75%     9.633020e+05  2.871700e+04  9.500000e+02   3.713000e+03   \n",
      "max     1.378431e+08  5.053338e+06  1.602383e+06   1.114800e+06   \n",
      "\n",
      "                                        thumbnail_link comments_disabled  \\\n",
      "count                                            40881             40881   \n",
      "unique                                           24422                 2   \n",
      "top     https://i.ytimg.com/vi/6ZfuNTqbHE8/default.jpg             False   \n",
      "freq                                                 8             40298   \n",
      "mean                                               NaN               NaN   \n",
      "std                                                NaN               NaN   \n",
      "min                                                NaN               NaN   \n",
      "25%                                                NaN               NaN   \n",
      "50%                                                NaN               NaN   \n",
      "75%                                                NaN               NaN   \n",
      "max                                                NaN               NaN   \n",
      "\n",
      "       ratings_disabled video_error_or_removed     description  \n",
      "count             40881                  40881           40881  \n",
      "unique                2                      2           22346  \n",
      "top               False                  False  No Description  \n",
      "freq              40602                  40854            1296  \n",
      "mean                NaN                    NaN             NaN  \n",
      "std                 NaN                    NaN             NaN  \n",
      "min                 NaN                    NaN             NaN  \n",
      "25%                 NaN                    NaN             NaN  \n",
      "50%                 NaN                    NaN             NaN  \n",
      "75%                 NaN                    NaN             NaN  \n",
      "max                 NaN                    NaN             NaN  \n"
     ]
    }
   ],
   "source": [
    "print(\"\\nDescriptive Statistics:\")\n",
    "print(df.describe(include='all'))\n"
   ]
  },
  {
   "cell_type": "code",
   "execution_count": 8,
   "id": "f003878f-5fff-4637-b52b-22b057025ec6",
   "metadata": {},
   "outputs": [
    {
     "data": {
      "image/png": "[encoded data removed]",
      "text/plain": [
       "<Figure size 1000x400 with 1 Axes>"
      ]
     },
     "metadata": {},
     "output_type": "display_data"
    }
   ],
   "source": [
    "plt.figure(figsize=(10, 4))\n",
    "sns.boxplot(x=df['views'])\n",
    "plt.title('Views Distribution')\n",
    "plt.show()"
   ]
  },
  {
   "cell_type": "code",
   "execution_count": 9,
   "id": "4b1fcf4d-e7de-45f8-b8d5-fabd3822cda7",
   "metadata": {},
   "outputs": [],
   "source": [
    "q_high = df['views'].quantile(0.99)\n",
    "df = df[df['views'] <= q_high]"
   ]
  },
  {
   "cell_type": "code",
   "execution_count": 10,
   "id": "ee77101d-f6cd-4140-97e1-bd5a10bebcb5",
   "metadata": {},
   "outputs": [
    {
     "name": "stdout",
     "output_type": "stream",
     "text": [
      "\n",
      "Cleaned DataFrame Shape: (40472, 16)\n",
      "Cleaned file saved as 'CAvideos_cleaned.csv'\n"
     ]
    }
   ],
   "source": [
    "print(\"\\nCleaned DataFrame Shape:\", df.shape)\n",
    "df.to_csv(\"CAvideos_cleaned.csv\", index=False)\n",
    "print(\"Cleaned file saved as 'CAvideos_cleaned.csv'\")"
   ]
  },
  {
   "cell_type": "code",
   "execution_count": null,
   "id": "a914fb5d-5b94-428d-bb91-c88ef9200e51",
   "metadata": {},
   "outputs": [],
   "source": []
  }
 ],
 "metadata": {
  "kernelspec": {
   "display_name": "Python 3 (ipykernel)",
   "language": "python",
   "name": "python3"
  },
  "language_info": {
   "codemirror_mode": {
    "name": "ipython",
    "version": 3
   },
   "file_extension": ".py",
   "mimetype": "text/x-python",
   "name": "python",
   "nbconvert_exporter": "python",
   "pygments_lexer": "ipython3",
   "version": "3.13.2"
  }
 },
 "nbformat": 4,
 "nbformat_minor": 5
}
